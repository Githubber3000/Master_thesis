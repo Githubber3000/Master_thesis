{
 "cells": [
  {
   "cell_type": "code",
   "execution_count": 8,
   "metadata": {},
   "outputs": [
    {
     "name": "stdout",
     "output_type": "stream",
     "text": [
      "[{'x': array(3.71511499)}, {'x': array(3.71511499)}, {'x': array(3.71511499)}, {'x': array(3.71511499)}]\n"
     ]
    }
   ],
   "source": [
    "import pymc as pm\n",
    "import numpy as np\n",
    "from pymc.initial_point import make_initial_point_fns_per_chain\n",
    "\n",
    "with pm.Model() as model:\n",
    "    # Define a mixture prior\n",
    "    w = np.array([0.5, 0.5])  # Mixture weights\n",
    "    components = [pm.Normal.dist(-3, 1), pm.Normal.dist(3, 1)]\n",
    "    x = pm.Mixture(\"x\", w=w, comp_dists=components)\n",
    "\n",
    "    num_chains = 4  # Number of chains\n",
    "\n",
    "    # Manually sample initial values from the prior\n",
    "    prior_samples = [x.eval() for _ in range(num_chains)]  # Draw from the prior\n",
    "\n",
    "    # Explicitly set initial values\n",
    "    initvals = [{\"x\": prior_samples[i]} for i in range(num_chains)]\n",
    "\n",
    "    # Create initialization functions with manual overrides\n",
    "    init_fns = make_initial_point_fns_per_chain(model=model, overrides=initvals, chains=num_chains)\n",
    "\n",
    "# Generate initial values for each chain\n",
    "init_values = [init_fn(seed=i) for i, init_fn in enumerate(init_fns)]\n",
    "print(init_values)\n"
   ]
  }
 ],
 "metadata": {
  "kernelspec": {
   "display_name": "pymc_immo_env",
   "language": "python",
   "name": "python3"
  },
  "language_info": {
   "codemirror_mode": {
    "name": "ipython",
    "version": 3
   },
   "file_extension": ".py",
   "mimetype": "text/x-python",
   "name": "python",
   "nbconvert_exporter": "python",
   "pygments_lexer": "ipython3",
   "version": "3.12.5"
  }
 },
 "nbformat": 4,
 "nbformat_minor": 2
}
